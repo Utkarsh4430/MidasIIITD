{
  "nbformat": 4,
  "nbformat_minor": 0,
  "metadata": {
    "colab": {
      "name": "CV_task.ipynb",
      "version": "0.3.2",
      "provenance": [],
      "collapsed_sections": [],
      "toc_visible": true
    },
    "kernelspec": {
      "name": "python3",
      "display_name": "Python 3"
    },
    "accelerator": "GPU"
  },
  "cells": [
    {
      "metadata": {
        "id": "VkdmD6HCGoVE",
        "colab_type": "text"
      },
      "cell_type": "markdown",
      "source": [
        "### Mounting drive\n",
        "- worked on colab for faster computation"
      ]
    },
    {
      "metadata": {
        "id": "ekHXc2EiqBYf",
        "colab_type": "code",
        "outputId": "70a950d9-9eca-4554-9d26-d63203b972b9",
        "colab": {
          "base_uri": "https://localhost:8080/",
          "height": 122
        }
      },
      "cell_type": "code",
      "source": [
        "from google.colab import drive\n",
        "drive.mount('/colab')"
      ],
      "execution_count": 1,
      "outputs": [
        {
          "output_type": "stream",
          "text": [
            "Go to this URL in a browser: https://accounts.google.com/o/oauth2/auth?client_id=947318989803-6bn6qk8qdgf4n4g3pfee6491hc0brc4i.apps.googleusercontent.com&redirect_uri=urn%3Aietf%3Awg%3Aoauth%3A2.0%3Aoob&scope=email%20https%3A%2F%2Fwww.googleapis.com%2Fauth%2Fdocs.test%20https%3A%2F%2Fwww.googleapis.com%2Fauth%2Fdrive%20https%3A%2F%2Fwww.googleapis.com%2Fauth%2Fdrive.photos.readonly%20https%3A%2F%2Fwww.googleapis.com%2Fauth%2Fpeopleapi.readonly&response_type=code\n",
            "\n",
            "Enter your authorization code:\n",
            "··········\n",
            "Mounted at /colab\n"
          ],
          "name": "stdout"
        }
      ]
    },
    {
      "metadata": {
        "id": "nGKj94KUHHot",
        "colab_type": "text"
      },
      "cell_type": "markdown",
      "source": [
        "### Copying the folder from drive"
      ]
    },
    {
      "metadata": {
        "id": "DloIGjxwqIGd",
        "colab_type": "code",
        "colab": {}
      },
      "cell_type": "code",
      "source": [
        "!cp -r \"/colab/My Drive/Vision_task_dataset_public\" \"./\""
      ],
      "execution_count": 0,
      "outputs": []
    },
    {
      "metadata": {
        "id": "3npzBMqRHN49",
        "colab_type": "text"
      },
      "cell_type": "markdown",
      "source": [
        "### Importing the required libraries"
      ]
    },
    {
      "metadata": {
        "id": "PqqvYKRmqroV",
        "colab_type": "code",
        "colab": {}
      },
      "cell_type": "code",
      "source": [
        "# reading the dateset\n",
        "import pickle\n",
        "\n",
        "# handling arrays\n",
        "import numpy as np\n",
        "\n",
        "# monitoring the progress of for loops\n",
        "from tqdm import tqdm\n",
        "\n",
        "#converting the labels into onehot encoding\n",
        "from sklearn.preprocessing import OneHotEncoder\n",
        "\n",
        "# for performing train-test split\n",
        "from sklearn.model_selection import train_test_split as tts\n",
        "\n",
        "# library to plot graphs and images\n",
        "from matplotlib import pyplot as plt\n",
        "\n",
        "# for shuffling the data\n",
        "from sklearn.utils import shuffle\n",
        "\n",
        "# opencv library to work with images and perform certain operations\n",
        "import cv2"
      ],
      "execution_count": 0,
      "outputs": []
    },
    {
      "metadata": {
        "id": "sFqHKY_7IGk2",
        "colab_type": "text"
      },
      "cell_type": "markdown",
      "source": [
        "### Reading the files"
      ]
    },
    {
      "metadata": {
        "id": "brsIrKAzrJzP",
        "colab_type": "code",
        "colab": {}
      },
      "cell_type": "code",
      "source": [
        "with open('Vision_task_dataset_public/train_image.pkl', 'rb') as file:\n",
        "    train_data = pickle.load(file)\n",
        "    \n",
        "with open('Vision_task_dataset_public/train_label.pkl', 'rb') as file:\n",
        "    train_label = pickle.load(file)"
      ],
      "execution_count": 0,
      "outputs": []
    },
    {
      "metadata": {
        "id": "bC3o_poprTr_",
        "colab_type": "code",
        "outputId": "0d645076-16ee-4078-f880-d16e0c59daa5",
        "colab": {
          "base_uri": "https://localhost:8080/",
          "height": 51
        }
      },
      "cell_type": "code",
      "source": [
        "# getting to know the data\n",
        "print(type(train_data),len(train_data))\n",
        "print(len(train_data[0]))"
      ],
      "execution_count": 56,
      "outputs": [
        {
          "output_type": "stream",
          "text": [
            "<class 'list'> 8000\n",
            "784\n"
          ],
          "name": "stdout"
        }
      ]
    },
    {
      "metadata": {
        "id": "xpRYu-7vum9j",
        "colab_type": "code",
        "colab": {}
      },
      "cell_type": "code",
      "source": [
        "# converting into required shape\n",
        "train_data = np.array(train_data).reshape(-1,28,28,1)"
      ],
      "execution_count": 0,
      "outputs": []
    },
    {
      "metadata": {
        "id": "prir2k5TIjRD",
        "colab_type": "text"
      },
      "cell_type": "markdown",
      "source": [
        "### Visualising the images"
      ]
    },
    {
      "metadata": {
        "id": "FsQ6EHkJrmH8",
        "colab_type": "code",
        "outputId": "16860105-a83a-43a4-fd47-15ea0c51369b",
        "colab": {
          "base_uri": "https://localhost:8080/",
          "height": 1277
        }
      },
      "cell_type": "code",
      "source": [
        "for i in range(5):\n",
        "  plt.imshow(train_data[i].reshape(28,28),cmap = plt.cm.bone) #used cmap to sharpen the images\n",
        "  plt.show()"
      ],
      "execution_count": 58,
      "outputs": [
        {
          "output_type": "display_data",
          "data": {
            "image/png": "[encoded data removed]",
            "text/plain": [
              "<Figure size 432x288 with 1 Axes>"
            ]
          },
          "metadata": {
            "tags": []
          }
        },
        {
          "output_type": "display_data",
          "data": {
            "image/png": "[encoded data removed]",
            "text/plain": [
              "<Figure size 432x288 with 1 Axes>"
            ]
          },
          "metadata": {
            "tags": []
          }
        },
        {
          "output_type": "display_data",
          "data": {
            "image/png": "[encoded data removed]",
            "text/plain": [
              "<Figure size 432x288 with 1 Axes>"
            ]
          },
          "metadata": {
            "tags": []
          }
        },
        {
          "output_type": "display_data",
          "data": {
            "image/png": "[encoded data removed]",
            "text/plain": [
              "<Figure size 432x288 with 1 Axes>"
            ]
          },
          "metadata": {
            "tags": []
          }
        },
        {
          "output_type": "display_data",
          "data": {
            "image/png": "[encoded data removed]",
            "text/plain": [
              "<Figure size 432x288 with 1 Axes>"
            ]
          },
          "metadata": {
            "tags": []
          }
        }
      ]
    },
    {
      "metadata": {
        "id": "IXk31I0iKUFV",
        "colab_type": "text"
      },
      "cell_type": "markdown",
      "source": [
        "### Analysing data distribution"
      ]
    },
    {
      "metadata": {
        "id": "RdnhoD0wtFVq",
        "colab_type": "code",
        "outputId": "3d2d6f6d-00a7-4add-f438-645e02887fef",
        "colab": {
          "base_uri": "https://localhost:8080/",
          "height": 34
        }
      },
      "cell_type": "code",
      "source": [
        "train_label = np.array(train_label).reshape(-1,1)\n",
        "np.unique(train_label,return_counts=True)  #finding unique labels and their counts"
      ],
      "execution_count": 59,
      "outputs": [
        {
          "output_type": "execute_result",
          "data": {
            "text/plain": [
              "(array([0, 2, 3, 6]), array([2000, 2000, 2000, 2000]))"
            ]
          },
          "metadata": {
            "tags": []
          },
          "execution_count": 59
        }
      ]
    },
    {
      "metadata": {
        "id": "OFIqvKS2Kg3r",
        "colab_type": "text"
      },
      "cell_type": "markdown",
      "source": [
        "### One hot-encoding the labels"
      ]
    },
    {
      "metadata": {
        "id": "dNsBIvxR1xFj",
        "colab_type": "code",
        "outputId": "e85d58fb-2874-44ad-c701-d471e8d9aa68",
        "colab": {
          "base_uri": "https://localhost:8080/",
          "height": 119
        }
      },
      "cell_type": "code",
      "source": [
        "enc = OneHotEncoder(handle_unknown='ignore',sparse=True)\n",
        "train_label = enc.fit_transform(train_label).toarray()\n",
        "print(train_label.shape)\n",
        "print(train_label[:5])"
      ],
      "execution_count": 60,
      "outputs": [
        {
          "output_type": "stream",
          "text": [
            "(8000, 4)\n",
            "[[1. 0. 0. 0.]\n",
            " [1. 0. 0. 0.]\n",
            " [1. 0. 0. 0.]\n",
            " [1. 0. 0. 0.]\n",
            " [1. 0. 0. 0.]]\n"
          ],
          "name": "stdout"
        }
      ]
    },
    {
      "metadata": {
        "id": "6yNW-0IVK5Ry",
        "colab_type": "text"
      },
      "cell_type": "markdown",
      "source": [
        "### Splitting the data into train and test\n",
        "- we dont perform any operation on test images\n",
        "- performed 90-10 split"
      ]
    },
    {
      "metadata": {
        "id": "QRZi7B8pQZDk",
        "colab_type": "code",
        "colab": {}
      },
      "cell_type": "code",
      "source": [
        "x_train,x_test,y_train,y_test = tts(train_data,train_label,random_state = 5,test_size = 0.1,shuffle = True)"
      ],
      "execution_count": 0,
      "outputs": []
    },
    {
      "metadata": {
        "id": "2NF6YCNKLOlf",
        "colab_type": "text"
      },
      "cell_type": "markdown",
      "source": [
        "### Data Augmentation\n",
        "- 8000 images are not enough to train the model\n",
        "- Performing data augmentation will improve our models considerably\n",
        "- Techniques performed are:\n",
        "\n",
        "        flipping\n",
        "        rotating\n",
        "        shifting "
      ]
    },
    {
      "metadata": {
        "id": "QX5HgQ6Cx23i",
        "colab_type": "code",
        "outputId": "676489a3-cc26-42b9-df65-85ed817006ea",
        "colab": {
          "base_uri": "https://localhost:8080/",
          "height": 34
        }
      },
      "cell_type": "code",
      "source": [
        "M = np.float32([[1, 0, 6], [0, 1, 6]])\n",
        "M1 = cv2.getRotationMatrix2D((14,14),90,1)\n",
        "\n",
        "augmented_images = []\n",
        "augmented_y = []\n",
        "\n",
        "for i in tqdm(range(len(x_train))):\n",
        "  x = x_train[i]\n",
        "  x=x.astype(np.float32)\n",
        "  y = y_train[i]\n",
        "  # flipping the image left-right\n",
        "  x1 = np.fliplr(x)  \n",
        "  #flipping the image up-down\n",
        "  x2 = np.flipud(x)\n",
        "  #rotating 90 degrees\n",
        "  x3 = np.rot90(x,1,(0,1))\n",
        "  #rotating 180 degrees\n",
        "  x4 = np.rot90(x3,1,(0,1))\n",
        "  #rotating 270 degrees\n",
        "  x5 = np.rot90(x4,1,(0,1))\n",
        "  #shifting the image and rotating the image\n",
        "  x6 = cv2.warpAffine(x,M1,(28,28)).reshape(28,28,1)\n",
        "  #shifting the image\n",
        "  x7 = cv2.warpAffine(x, M, (28, 28)).reshape(28,28,1)\n",
        "  #flipping the rotated image\n",
        "  x8 = np.flipud(x6).reshape(28,28,1)\n",
        "  augmented_images.append(x1)\n",
        "  augmented_images.append(x2)\n",
        "  augmented_images.append(x3)\n",
        "  augmented_images.append(x4)\n",
        "  augmented_images.append(x5)\n",
        "  augmented_images.append(x6)\n",
        "  augmented_images.append(x7)\n",
        "  augmented_images.append(x8)\n",
        "  for j in range(8):\n",
        "    augmented_y.append(y)"
      ],
      "execution_count": 11,
      "outputs": [
        {
          "output_type": "stream",
          "text": [
            "100%|██████████| 7200/7200 [00:00<00:00, 11732.72it/s]\n"
          ],
          "name": "stderr"
        }
      ]
    },
    {
      "metadata": {
        "id": "KyKSzY4eM-kg",
        "colab_type": "text"
      },
      "cell_type": "markdown",
      "source": [
        "### Adding Gaaussian Noise in the data\n",
        "- Sometimes the data overfits because of data augmentation so gaussian noise is added\n",
        "- Didnt work for the model, therefore it was removed"
      ]
    },
    {
      "metadata": {
        "id": "FXzfE5EqQZRx",
        "colab_type": "code",
        "colab": {}
      },
      "cell_type": "code",
      "source": [
        "# mean = 0\n",
        "# var = 0.2\n",
        "# sigma = var**0.5\n",
        "# for i in tqdm(range(1500)):\n",
        "#   gauss = np.random.normal(mean,sigma,(28,28,1))\n",
        "#   y = y_train[456+i]\n",
        "#   augmented_images.append(gauss)\n",
        "#   augmented_y.append(y)"
      ],
      "execution_count": 0,
      "outputs": []
    },
    {
      "metadata": {
        "id": "uaz2OfDCa8hQ",
        "colab_type": "code",
        "outputId": "433913c0-7737-41d2-a60e-d38e32ce7845",
        "colab": {
          "base_uri": "https://localhost:8080/",
          "height": 34
        }
      },
      "cell_type": "code",
      "source": [
        "len(augmented_images)"
      ],
      "execution_count": 13,
      "outputs": [
        {
          "output_type": "execute_result",
          "data": {
            "text/plain": [
              "57600"
            ]
          },
          "metadata": {
            "tags": []
          },
          "execution_count": 13
        }
      ]
    },
    {
      "metadata": {
        "id": "D__2pnIRNTWQ",
        "colab_type": "text"
      },
      "cell_type": "markdown",
      "source": [
        "### Joining original dataset with augmented data"
      ]
    },
    {
      "metadata": {
        "id": "NZm33HfNHeN9",
        "colab_type": "code",
        "colab": {}
      },
      "cell_type": "code",
      "source": [
        "augmented_images = np.array(augmented_images)\n",
        "augmented_y = np.array(augmented_y)\n",
        "x_train = np.concatenate((x_train,augmented_images),axis=0)\n",
        "y_train = np.concatenate((y_train,augmented_y),axis=0)"
      ],
      "execution_count": 0,
      "outputs": []
    },
    {
      "metadata": {
        "id": "UNjDicRrNbPA",
        "colab_type": "text"
      },
      "cell_type": "markdown",
      "source": [
        "### Shuffling the data as the original dataset and augmented data is in order"
      ]
    },
    {
      "metadata": {
        "id": "FmhU3Jp6Xz-G",
        "colab_type": "code",
        "colab": {}
      },
      "cell_type": "code",
      "source": [
        "x_train, y_train = shuffle(x_train, y_train, random_state=42)"
      ],
      "execution_count": 0,
      "outputs": []
    },
    {
      "metadata": {
        "id": "jkCf8RUDb_YF",
        "colab_type": "code",
        "outputId": "0b4a5d6a-7607-4a88-d01a-625ea2ff8437",
        "colab": {
          "base_uri": "https://localhost:8080/",
          "height": 34
        }
      },
      "cell_type": "code",
      "source": [
        "x_train.shape,y_train.shape,x_test.shape,y_test.shape"
      ],
      "execution_count": 16,
      "outputs": [
        {
          "output_type": "execute_result",
          "data": {
            "text/plain": [
              "((64800, 28, 28, 1), (64800, 4), (800, 28, 28, 1), (800, 4))"
            ]
          },
          "metadata": {
            "tags": []
          },
          "execution_count": 16
        }
      ]
    },
    {
      "metadata": {
        "id": "jp0mWdy3Nlas",
        "colab_type": "text"
      },
      "cell_type": "markdown",
      "source": [
        "### Function for plotting model accuracies and losses"
      ]
    },
    {
      "metadata": {
        "id": "SOXuQY8yfsdG",
        "colab_type": "code",
        "colab": {}
      },
      "cell_type": "code",
      "source": [
        "def func(history):\n",
        "\n",
        "  # summarize history for accuracy\n",
        "    plt.plot(history.history['acc'])\n",
        "    plt.plot(history.history['val_acc'])\n",
        "    plt.title('model accuracy')\n",
        "    plt.ylabel('accuracy')\n",
        "    plt.xlabel('epoch')\n",
        "    plt.legend(['train', 'test'], loc='upper left')\n",
        "    plt.show()\n",
        "    # summarize history for loss\n",
        "    plt.plot(history.history['loss'])\n",
        "    plt.plot(history.history['val_loss'])\n",
        "    plt.title('model loss')\n",
        "    plt.ylabel('loss')\n",
        "    plt.xlabel('epoch')\n",
        "    plt.legend(['train', 'test'], loc='upper left')\n",
        "    plt.show()\n",
        "\n",
        "\n",
        "    plt.show()"
      ],
      "execution_count": 0,
      "outputs": []
    },
    {
      "metadata": {
        "id": "kVjmE0Q-NsVR",
        "colab_type": "text"
      },
      "cell_type": "markdown",
      "source": [
        "### Importing the required keras libraries"
      ]
    },
    {
      "metadata": {
        "id": "5rBqwMHUuajP",
        "colab_type": "code",
        "colab": {}
      },
      "cell_type": "code",
      "source": [
        "from keras import Model\n",
        "from keras.models import Sequential                                 #type of model\n",
        "from keras.layers import Dropout, Dense, Flatten, Convolution2D, Activation, BatchNormalization, MaxPool2D  #layers in keras model\n",
        "from keras.layers.advanced_activations import LeakyReLU            #activation layer\n",
        "from keras.callbacks import ModelCheckpoint"
      ],
      "execution_count": 0,
      "outputs": []
    },
    {
      "metadata": {
        "id": "NAs8fIi9N5ck",
        "colab_type": "text"
      },
      "cell_type": "markdown",
      "source": [
        "### Keras model"
      ]
    },
    {
      "metadata": {
        "id": "3A2TMKWz1Jbk",
        "colab_type": "text"
      },
      "cell_type": "markdown",
      "source": [
        "### Layers used\n",
        "- convolution2d : main layer in cnn, helps in training images\n",
        "- batchnormalisation : mean normalise the activations of previous layer. Important to prevent gradient from exploding\n",
        "- LeakyRelu : its a leaky version of relu, allows small gradients when the unit is not active\n",
        "- Maxpooling2d : reduces the size of images by taking the maximum in image. helps to extract features from the image\n",
        "- flatten : converts 2D array to 1 D to pass through dense layer\n",
        "- dense : normal fully connected layers to apply activation\n",
        "- dropout : to reduce overfitting\n",
        "\n",
        "### Compile Function\n",
        "- Loss used -> categorical_crossentropy (for multiclass classification)\n",
        "- Optimizer -> adam (one of the best optimizer in keras)"
      ]
    },
    {
      "metadata": {
        "id": "HVtoUqp06jMk",
        "colab_type": "text"
      },
      "cell_type": "markdown",
      "source": [
        "### Model 1\n",
        "- used a model I used on a different dataset\n",
        "- less layers to see how the model performs"
      ]
    },
    {
      "metadata": {
        "id": "3-79Yf20-bT1",
        "colab_type": "code",
        "outputId": "ea6456f1-dbcf-4fab-961c-b0c03fb4c306",
        "colab": {
          "base_uri": "https://localhost:8080/",
          "height": 921
        }
      },
      "cell_type": "code",
      "source": [
        "model1 = Sequential()\n",
        "\n",
        "model1.add(Convolution2D(16, (3,3), padding='same', use_bias=False, input_shape=(28,28,1)))\n",
        "model1.add(BatchNormalization())\n",
        "model1.add(LeakyReLU(alpha=0.1))\n",
        "model1.add(MaxPool2D(pool_size=(2, 2)))\n",
        "\n",
        "model1.add(Convolution2D(32, (3,3), padding='same', use_bias=False))\n",
        "model1.add(BatchNormalization())\n",
        "model1.add(LeakyReLU(alpha=0.1))\n",
        "model1.add(MaxPool2D(pool_size=(2, 2)))\n",
        "\n",
        "model1.add(Convolution2D(64, (3,3),padding='same', use_bias=False))\n",
        "model1.add(BatchNormalization())\n",
        "model1.add(LeakyReLU(alpha=0.1))\n",
        "model1.add(MaxPool2D(pool_size=(2, 2)))\n",
        "\n",
        "model1.add(Convolution2D(64, (3,3), padding='same',use_bias=False))\n",
        "model1.add(BatchNormalization())\n",
        "model1.add(LeakyReLU(alpha=0.1))\n",
        "          \n",
        "model1.add(Flatten())\n",
        "model1.add(Dense(100,activation='relu'))\n",
        "model1.add(Dropout(0.2))\n",
        "model1.add(Dense(4,activation='softmax'))\n",
        "\n",
        "#printing the model summary\n",
        "print(model1.summary())\n",
        "\n",
        "#compiling the model with optimizer adam, and metrics as accuracy\n",
        "model1.compile(optimizer = 'adam',loss = 'categorical_crossentropy', metrics = ['accuracy'])"
      ],
      "execution_count": 19,
      "outputs": [
        {
          "output_type": "stream",
          "text": [
            "WARNING:tensorflow:From /usr/local/lib/python3.6/dist-packages/tensorflow/python/framework/op_def_library.py:263: colocate_with (from tensorflow.python.framework.ops) is deprecated and will be removed in a future version.\n",
            "Instructions for updating:\n",
            "Colocations handled automatically by placer.\n",
            "WARNING:tensorflow:From /usr/local/lib/python3.6/dist-packages/keras/backend/tensorflow_backend.py:3445: calling dropout (from tensorflow.python.ops.nn_ops) with keep_prob is deprecated and will be removed in a future version.\n",
            "Instructions for updating:\n",
            "Please use `rate` instead of `keep_prob`. Rate should be set to `rate = 1 - keep_prob`.\n",
            "_________________________________________________________________\n",
            "Layer (type)                 Output Shape              Param #   \n",
            "=================================================================\n",
            "conv2d_1 (Conv2D)            (None, 28, 28, 16)        144       \n",
            "_________________________________________________________________\n",
            "batch_normalization_1 (Batch (None, 28, 28, 16)        64        \n",
            "_________________________________________________________________\n",
            "leaky_re_lu_1 (LeakyReLU)    (None, 28, 28, 16)        0         \n",
            "_________________________________________________________________\n",
            "max_pooling2d_1 (MaxPooling2 (None, 14, 14, 16)        0         \n",
            "_________________________________________________________________\n",
            "conv2d_2 (Conv2D)            (None, 14, 14, 32)        4608      \n",
            "_________________________________________________________________\n",
            "batch_normalization_2 (Batch (None, 14, 14, 32)        128       \n",
            "_________________________________________________________________\n",
            "leaky_re_lu_2 (LeakyReLU)    (None, 14, 14, 32)        0         \n",
            "_________________________________________________________________\n",
            "max_pooling2d_2 (MaxPooling2 (None, 7, 7, 32)          0         \n",
            "_________________________________________________________________\n",
            "conv2d_3 (Conv2D)            (None, 7, 7, 64)          18432     \n",
            "_________________________________________________________________\n",
            "batch_normalization_3 (Batch (None, 7, 7, 64)          256       \n",
            "_________________________________________________________________\n",
            "leaky_re_lu_3 (LeakyReLU)    (None, 7, 7, 64)          0         \n",
            "_________________________________________________________________\n",
            "max_pooling2d_3 (MaxPooling2 (None, 3, 3, 64)          0         \n",
            "_________________________________________________________________\n",
            "conv2d_4 (Conv2D)            (None, 3, 3, 64)          36864     \n",
            "_________________________________________________________________\n",
            "batch_normalization_4 (Batch (None, 3, 3, 64)          256       \n",
            "_________________________________________________________________\n",
            "leaky_re_lu_4 (LeakyReLU)    (None, 3, 3, 64)          0         \n",
            "_________________________________________________________________\n",
            "flatten_1 (Flatten)          (None, 576)               0         \n",
            "_________________________________________________________________\n",
            "dense_1 (Dense)              (None, 100)               57700     \n",
            "_________________________________________________________________\n",
            "dropout_1 (Dropout)          (None, 100)               0         \n",
            "_________________________________________________________________\n",
            "dense_2 (Dense)              (None, 4)                 404       \n",
            "=================================================================\n",
            "Total params: 118,856\n",
            "Trainable params: 118,504\n",
            "Non-trainable params: 352\n",
            "_________________________________________________________________\n",
            "None\n"
          ],
          "name": "stdout"
        }
      ]
    },
    {
      "metadata": {
        "id": "zdwXucWd_KI0",
        "colab_type": "code",
        "outputId": "371d373f-d81a-4f7c-d0ff-67f9bc9f9d2a",
        "colab": {
          "base_uri": "https://localhost:8080/",
          "height": 1805
        }
      },
      "cell_type": "code",
      "source": [
        "X1 = model1.fit(x_train,y_train,batch_size=128,epochs=50,validation_split=0.1)"
      ],
      "execution_count": 20,
      "outputs": [
        {
          "output_type": "stream",
          "text": [
            "WARNING:tensorflow:From /usr/local/lib/python3.6/dist-packages/tensorflow/python/ops/math_ops.py:3066: to_int32 (from tensorflow.python.ops.math_ops) is deprecated and will be removed in a future version.\n",
            "Instructions for updating:\n",
            "Use tf.cast instead.\n",
            "Train on 58320 samples, validate on 6480 samples\n",
            "Epoch 1/50\n",
            "58320/58320 [==============================] - 11s 187us/step - loss: 0.5759 - acc: 0.7689 - val_loss: 0.6879 - val_acc: 0.7500\n",
            "Epoch 2/50\n",
            "58320/58320 [==============================] - 7s 123us/step - loss: 0.4100 - acc: 0.8392 - val_loss: 0.4061 - val_acc: 0.8380\n",
            "Epoch 3/50\n",
            "58320/58320 [==============================] - 7s 124us/step - loss: 0.3584 - acc: 0.8593 - val_loss: 0.3991 - val_acc: 0.8460\n",
            "Epoch 4/50\n",
            "58320/58320 [==============================] - 7s 124us/step - loss: 0.3266 - acc: 0.8720 - val_loss: 0.3638 - val_acc: 0.8622\n",
            "Epoch 5/50\n",
            "58320/58320 [==============================] - 7s 125us/step - loss: 0.2948 - acc: 0.8837 - val_loss: 0.4233 - val_acc: 0.8381\n",
            "Epoch 6/50\n",
            "58320/58320 [==============================] - 8s 131us/step - loss: 0.2685 - acc: 0.8936 - val_loss: 0.3632 - val_acc: 0.8622\n",
            "Epoch 7/50\n",
            "58320/58320 [==============================] - 7s 128us/step - loss: 0.2493 - acc: 0.9008 - val_loss: 0.3420 - val_acc: 0.8719\n",
            "Epoch 8/50\n",
            "58320/58320 [==============================] - 7s 128us/step - loss: 0.2276 - acc: 0.9104 - val_loss: 0.4002 - val_acc: 0.8640\n",
            "Epoch 9/50\n",
            "58320/58320 [==============================] - 7s 128us/step - loss: 0.2085 - acc: 0.9168 - val_loss: 0.3667 - val_acc: 0.8758\n",
            "Epoch 10/50\n",
            "58320/58320 [==============================] - 7s 128us/step - loss: 0.1912 - acc: 0.9246 - val_loss: 0.3653 - val_acc: 0.8815\n",
            "Epoch 11/50\n",
            "58320/58320 [==============================] - 8s 131us/step - loss: 0.1746 - acc: 0.9305 - val_loss: 0.3992 - val_acc: 0.8671\n",
            "Epoch 12/50\n",
            "58320/58320 [==============================] - 7s 120us/step - loss: 0.1651 - acc: 0.9340 - val_loss: 0.4130 - val_acc: 0.8611\n",
            "Epoch 13/50\n",
            "58320/58320 [==============================] - 7s 120us/step - loss: 0.1530 - acc: 0.9396 - val_loss: 0.4839 - val_acc: 0.8460\n",
            "Epoch 14/50\n",
            "58320/58320 [==============================] - 7s 120us/step - loss: 0.1402 - acc: 0.9444 - val_loss: 0.3829 - val_acc: 0.8753\n",
            "Epoch 15/50\n",
            "58320/58320 [==============================] - 7s 120us/step - loss: 0.1307 - acc: 0.9476 - val_loss: 0.4227 - val_acc: 0.8728\n",
            "Epoch 16/50\n",
            "58320/58320 [==============================] - 7s 120us/step - loss: 0.1199 - acc: 0.9519 - val_loss: 0.4637 - val_acc: 0.8673\n",
            "Epoch 17/50\n",
            "58320/58320 [==============================] - 7s 120us/step - loss: 0.1126 - acc: 0.9556 - val_loss: 0.5195 - val_acc: 0.8590\n",
            "Epoch 18/50\n",
            "58320/58320 [==============================] - 7s 119us/step - loss: 0.1073 - acc: 0.9574 - val_loss: 0.5238 - val_acc: 0.8571\n",
            "Epoch 19/50\n",
            "58320/58320 [==============================] - 7s 120us/step - loss: 0.1007 - acc: 0.9601 - val_loss: 0.4959 - val_acc: 0.8802\n",
            "Epoch 20/50\n",
            "58320/58320 [==============================] - 7s 119us/step - loss: 0.0969 - acc: 0.9618 - val_loss: 0.4554 - val_acc: 0.8699\n",
            "Epoch 21/50\n",
            "58320/58320 [==============================] - 7s 119us/step - loss: 0.0888 - acc: 0.9660 - val_loss: 0.4660 - val_acc: 0.8769\n",
            "Epoch 22/50\n",
            "58320/58320 [==============================] - 7s 120us/step - loss: 0.0879 - acc: 0.9645 - val_loss: 0.4702 - val_acc: 0.8752\n",
            "Epoch 23/50\n",
            "58320/58320 [==============================] - 7s 120us/step - loss: 0.0793 - acc: 0.9695 - val_loss: 0.5252 - val_acc: 0.8673\n",
            "Epoch 24/50\n",
            "58320/58320 [==============================] - 7s 119us/step - loss: 0.0762 - acc: 0.9707 - val_loss: 0.5501 - val_acc: 0.8809\n",
            "Epoch 25/50\n",
            "58320/58320 [==============================] - 7s 120us/step - loss: 0.0773 - acc: 0.9705 - val_loss: 0.6409 - val_acc: 0.8503\n",
            "Epoch 26/50\n",
            "58320/58320 [==============================] - 7s 119us/step - loss: 0.0738 - acc: 0.9713 - val_loss: 0.5319 - val_acc: 0.8761\n",
            "Epoch 27/50\n",
            "58320/58320 [==============================] - 7s 120us/step - loss: 0.0671 - acc: 0.9744 - val_loss: 0.5228 - val_acc: 0.8832\n",
            "Epoch 28/50\n",
            "58320/58320 [==============================] - 7s 120us/step - loss: 0.0619 - acc: 0.9758 - val_loss: 0.5881 - val_acc: 0.8662\n",
            "Epoch 29/50\n",
            "58320/58320 [==============================] - 7s 119us/step - loss: 0.0637 - acc: 0.9756 - val_loss: 0.5880 - val_acc: 0.8762\n",
            "Epoch 30/50\n",
            "58320/58320 [==============================] - 7s 119us/step - loss: 0.0580 - acc: 0.9777 - val_loss: 0.5160 - val_acc: 0.8804\n",
            "Epoch 31/50\n",
            "58320/58320 [==============================] - 7s 120us/step - loss: 0.0574 - acc: 0.9784 - val_loss: 0.6025 - val_acc: 0.8835\n",
            "Epoch 32/50\n",
            "58320/58320 [==============================] - 7s 119us/step - loss: 0.0584 - acc: 0.9779 - val_loss: 0.6446 - val_acc: 0.8744\n",
            "Epoch 33/50\n",
            "58320/58320 [==============================] - 7s 119us/step - loss: 0.0555 - acc: 0.9793 - val_loss: 0.5654 - val_acc: 0.8759\n",
            "Epoch 34/50\n",
            "58320/58320 [==============================] - 7s 119us/step - loss: 0.0478 - acc: 0.9818 - val_loss: 0.6241 - val_acc: 0.8648\n",
            "Epoch 35/50\n",
            "58320/58320 [==============================] - 7s 120us/step - loss: 0.0494 - acc: 0.9810 - val_loss: 0.6759 - val_acc: 0.8782\n",
            "Epoch 36/50\n",
            "58320/58320 [==============================] - 7s 119us/step - loss: 0.0477 - acc: 0.9824 - val_loss: 0.5662 - val_acc: 0.8866\n",
            "Epoch 37/50\n",
            "58320/58320 [==============================] - 7s 120us/step - loss: 0.0500 - acc: 0.9811 - val_loss: 0.5692 - val_acc: 0.8846\n",
            "Epoch 38/50\n",
            "58320/58320 [==============================] - 7s 119us/step - loss: 0.0469 - acc: 0.9823 - val_loss: 0.6923 - val_acc: 0.8738\n",
            "Epoch 39/50\n",
            "58320/58320 [==============================] - 7s 120us/step - loss: 0.0408 - acc: 0.9846 - val_loss: 0.6184 - val_acc: 0.8875\n",
            "Epoch 40/50\n",
            "58320/58320 [==============================] - 7s 120us/step - loss: 0.0467 - acc: 0.9828 - val_loss: 0.5896 - val_acc: 0.8855\n",
            "Epoch 41/50\n",
            "58320/58320 [==============================] - 7s 120us/step - loss: 0.0411 - acc: 0.9844 - val_loss: 0.5990 - val_acc: 0.8802\n",
            "Epoch 42/50\n",
            "58320/58320 [==============================] - 7s 120us/step - loss: 0.0447 - acc: 0.9838 - val_loss: 0.6115 - val_acc: 0.8821\n",
            "Epoch 43/50\n",
            "58320/58320 [==============================] - 7s 120us/step - loss: 0.0411 - acc: 0.9843 - val_loss: 0.6358 - val_acc: 0.8710\n",
            "Epoch 44/50\n",
            "58320/58320 [==============================] - 7s 120us/step - loss: 0.0403 - acc: 0.9857 - val_loss: 0.6043 - val_acc: 0.8793\n",
            "Epoch 45/50\n",
            "58320/58320 [==============================] - 7s 120us/step - loss: 0.0392 - acc: 0.9856 - val_loss: 0.6001 - val_acc: 0.8864\n",
            "Epoch 46/50\n",
            "58320/58320 [==============================] - 7s 120us/step - loss: 0.0386 - acc: 0.9861 - val_loss: 0.5986 - val_acc: 0.8744\n",
            "Epoch 47/50\n",
            "58320/58320 [==============================] - 7s 119us/step - loss: 0.0368 - acc: 0.9868 - val_loss: 0.6444 - val_acc: 0.8840\n",
            "Epoch 48/50\n",
            "58320/58320 [==============================] - 7s 119us/step - loss: 0.0362 - acc: 0.9865 - val_loss: 0.7105 - val_acc: 0.8767\n",
            "Epoch 49/50\n",
            "58320/58320 [==============================] - 7s 119us/step - loss: 0.0376 - acc: 0.9861 - val_loss: 0.6588 - val_acc: 0.8790\n",
            "Epoch 50/50\n",
            "58320/58320 [==============================] - 7s 119us/step - loss: 0.0349 - acc: 0.9870 - val_loss: 0.7076 - val_acc: 0.8733\n"
          ],
          "name": "stdout"
        }
      ]
    },
    {
      "metadata": {
        "id": "3U_qfnZg_dtW",
        "colab_type": "code",
        "outputId": "320f1bba-1dc6-4c61-ed04-de5a939fb1b8",
        "colab": {
          "base_uri": "https://localhost:8080/",
          "height": 607
        }
      },
      "cell_type": "code",
      "source": [
        "func(X1) #plotting the graphs\n",
        "_,acc = model1.evaluate(x_test,y_test)\n",
        "print(\"Test accuracy : \",acc)"
      ],
      "execution_count": 21,
      "outputs": [
        {
          "output_type": "display_data",
          "data": {
            "image/png": "[encoded data removed]",
            "text/plain": [
              "<Figure size 432x288 with 1 Axes>"
            ]
          },
          "metadata": {
            "tags": []
          }
        },
        {
          "output_type": "display_data",
          "data": {
            "image/png": "[encoded data removed]",
            "text/plain": [
              "<Figure size 432x288 with 1 Axes>"
            ]
          },
          "metadata": {
            "tags": []
          }
        },
        {
          "output_type": "stream",
          "text": [
            "800/800 [==============================] - 0s 115us/step\n",
            "Test accuracy :  0.8525\n"
          ],
          "name": "stdout"
        }
      ]
    },
    {
      "metadata": {
        "id": "INqHGcDj67jZ",
        "colab_type": "text"
      },
      "cell_type": "markdown",
      "source": [
        "### Model 2\n",
        "- did some changes to model 1\n",
        "- removed leakyrelu and added normal relu\n",
        "- increased the number of units and layers"
      ]
    },
    {
      "metadata": {
        "id": "2FVhoSHZFlYo",
        "colab_type": "code",
        "outputId": "921a60e6-0204-423e-d537-077eca211b1c",
        "colab": {
          "base_uri": "https://localhost:8080/",
          "height": 799
        }
      },
      "cell_type": "code",
      "source": [
        "model2 = Sequential()\n",
        "\n",
        "model2.add(Convolution2D(16, (3,3), padding='same', activation = 'relu',use_bias=False, input_shape=(28,28,1)))\n",
        "model2.add(BatchNormalization())\n",
        "# model1.add(LeakyReLU(alpha=0.1))\n",
        "model2.add(MaxPool2D(pool_size=(2, 2)))\n",
        "model2.add(Dropout(0.2))\n",
        "\n",
        "model2.add(Convolution2D(32, (3,3), padding='same', activation = 'relu',use_bias=False))\n",
        "model2.add(BatchNormalization())\n",
        "# model1.add(LeakyReLU(alpha=0.1))\n",
        "model2.add(MaxPool2D(pool_size=(2, 2)))\n",
        "model2.add(Dropout(0.2))\n",
        "\n",
        "model2.add(Convolution2D(64, (3,3),padding='same', activation = 'relu',use_bias=False))\n",
        "model2.add(BatchNormalization())\n",
        "# model1.add(LeakyReLU(alpha=0.1))\n",
        "model2.add(MaxPool2D(pool_size=(2, 2)))\n",
        "model2.add(Dropout(0.2))\n",
        "\n",
        "model2.add(Convolution2D(128, (3,3), padding='same',activation = 'relu',use_bias=False))\n",
        "model2.add(BatchNormalization())\n",
        "# model1.add(LeakyReLU(alpha=0.1))\n",
        "model2.add(Dropout(0.2))\n",
        "\n",
        "model2.add(Flatten())\n",
        "model2.add(Dense(250,activation='relu'))\n",
        "model2.add(Dropout(0.2))\n",
        "model2.add(Dense(4,activation='softmax'))\n",
        "print(model2.summary())\n",
        "model2.compile(optimizer = 'adam',loss = 'categorical_crossentropy', metrics = ['accuracy'])"
      ],
      "execution_count": 22,
      "outputs": [
        {
          "output_type": "stream",
          "text": [
            "_________________________________________________________________\n",
            "Layer (type)                 Output Shape              Param #   \n",
            "=================================================================\n",
            "conv2d_5 (Conv2D)            (None, 28, 28, 16)        144       \n",
            "_________________________________________________________________\n",
            "batch_normalization_5 (Batch (None, 28, 28, 16)        64        \n",
            "_________________________________________________________________\n",
            "max_pooling2d_4 (MaxPooling2 (None, 14, 14, 16)        0         \n",
            "_________________________________________________________________\n",
            "dropout_2 (Dropout)          (None, 14, 14, 16)        0         \n",
            "_________________________________________________________________\n",
            "conv2d_6 (Conv2D)            (None, 14, 14, 32)        4608      \n",
            "_________________________________________________________________\n",
            "batch_normalization_6 (Batch (None, 14, 14, 32)        128       \n",
            "_________________________________________________________________\n",
            "max_pooling2d_5 (MaxPooling2 (None, 7, 7, 32)          0         \n",
            "_________________________________________________________________\n",
            "dropout_3 (Dropout)          (None, 7, 7, 32)          0         \n",
            "_________________________________________________________________\n",
            "conv2d_7 (Conv2D)            (None, 7, 7, 64)          18432     \n",
            "_________________________________________________________________\n",
            "batch_normalization_7 (Batch (None, 7, 7, 64)          256       \n",
            "_________________________________________________________________\n",
            "max_pooling2d_6 (MaxPooling2 (None, 3, 3, 64)          0         \n",
            "_________________________________________________________________\n",
            "dropout_4 (Dropout)          (None, 3, 3, 64)          0         \n",
            "_________________________________________________________________\n",
            "conv2d_8 (Conv2D)            (None, 3, 3, 128)         73728     \n",
            "_________________________________________________________________\n",
            "batch_normalization_8 (Batch (None, 3, 3, 128)         512       \n",
            "_________________________________________________________________\n",
            "dropout_5 (Dropout)          (None, 3, 3, 128)         0         \n",
            "_________________________________________________________________\n",
            "flatten_2 (Flatten)          (None, 1152)              0         \n",
            "_________________________________________________________________\n",
            "dense_3 (Dense)              (None, 250)               288250    \n",
            "_________________________________________________________________\n",
            "dropout_6 (Dropout)          (None, 250)               0         \n",
            "_________________________________________________________________\n",
            "dense_4 (Dense)              (None, 4)                 1004      \n",
            "=================================================================\n",
            "Total params: 387,126\n",
            "Trainable params: 386,646\n",
            "Non-trainable params: 480\n",
            "_________________________________________________________________\n",
            "None\n"
          ],
          "name": "stdout"
        }
      ]
    },
    {
      "metadata": {
        "id": "oYJ18927GIe9",
        "colab_type": "code",
        "outputId": "4d8436de-b99c-43b1-f891-84ec0815f184",
        "colab": {
          "base_uri": "https://localhost:8080/",
          "height": 1734
        }
      },
      "cell_type": "code",
      "source": [
        "X2 = model2.fit(x_train,y_train,batch_size=128,epochs=50,validation_split=0.1)"
      ],
      "execution_count": 23,
      "outputs": [
        {
          "output_type": "stream",
          "text": [
            "Train on 58320 samples, validate on 6480 samples\n",
            "Epoch 1/50\n",
            "58320/58320 [==============================] - 9s 150us/step - loss: 0.7190 - acc: 0.7029 - val_loss: 0.5143 - val_acc: 0.7927\n",
            "Epoch 2/50\n",
            "58320/58320 [==============================] - 8s 129us/step - loss: 0.5304 - acc: 0.7885 - val_loss: 0.4321 - val_acc: 0.8287\n",
            "Epoch 3/50\n",
            "58320/58320 [==============================] - 8s 129us/step - loss: 0.4746 - acc: 0.8097 - val_loss: 0.4021 - val_acc: 0.8429\n",
            "Epoch 4/50\n",
            "58320/58320 [==============================] - 7s 128us/step - loss: 0.4393 - acc: 0.8237 - val_loss: 0.4424 - val_acc: 0.8196\n",
            "Epoch 5/50\n",
            "58320/58320 [==============================] - 7s 128us/step - loss: 0.4175 - acc: 0.8347 - val_loss: 0.4382 - val_acc: 0.8245\n",
            "Epoch 6/50\n",
            "58320/58320 [==============================] - 8s 129us/step - loss: 0.4010 - acc: 0.8412 - val_loss: 0.3698 - val_acc: 0.8552\n",
            "Epoch 7/50\n",
            "58320/58320 [==============================] - 8s 129us/step - loss: 0.3858 - acc: 0.8463 - val_loss: 0.3438 - val_acc: 0.8664\n",
            "Epoch 8/50\n",
            "58320/58320 [==============================] - 7s 129us/step - loss: 0.3693 - acc: 0.8538 - val_loss: 0.3417 - val_acc: 0.8693\n",
            "Epoch 9/50\n",
            "58320/58320 [==============================] - 7s 128us/step - loss: 0.3599 - acc: 0.8578 - val_loss: 0.3344 - val_acc: 0.8687\n",
            "Epoch 10/50\n",
            "58320/58320 [==============================] - 7s 128us/step - loss: 0.3531 - acc: 0.8597 - val_loss: 0.3330 - val_acc: 0.8699\n",
            "Epoch 11/50\n",
            "58320/58320 [==============================] - 7s 128us/step - loss: 0.3441 - acc: 0.8656 - val_loss: 0.3150 - val_acc: 0.8847\n",
            "Epoch 12/50\n",
            "58320/58320 [==============================] - 7s 128us/step - loss: 0.3349 - acc: 0.8675 - val_loss: 0.3149 - val_acc: 0.8781\n",
            "Epoch 13/50\n",
            "58320/58320 [==============================] - 7s 128us/step - loss: 0.3224 - acc: 0.8725 - val_loss: 0.3525 - val_acc: 0.8691\n",
            "Epoch 14/50\n",
            "58320/58320 [==============================] - 8s 129us/step - loss: 0.3198 - acc: 0.8732 - val_loss: 0.3219 - val_acc: 0.8809\n",
            "Epoch 15/50\n",
            "58320/58320 [==============================] - 8s 129us/step - loss: 0.3146 - acc: 0.8754 - val_loss: 0.2986 - val_acc: 0.8877\n",
            "Epoch 16/50\n",
            "58320/58320 [==============================] - 7s 128us/step - loss: 0.3085 - acc: 0.8785 - val_loss: 0.2972 - val_acc: 0.8887\n",
            "Epoch 17/50\n",
            "58320/58320 [==============================] - 7s 128us/step - loss: 0.2986 - acc: 0.8815 - val_loss: 0.2936 - val_acc: 0.8892\n",
            "Epoch 18/50\n",
            "58320/58320 [==============================] - 8s 129us/step - loss: 0.2946 - acc: 0.8840 - val_loss: 0.2916 - val_acc: 0.8892\n",
            "Epoch 19/50\n",
            "58320/58320 [==============================] - 7s 128us/step - loss: 0.2917 - acc: 0.8845 - val_loss: 0.2953 - val_acc: 0.8915\n",
            "Epoch 20/50\n",
            "58320/58320 [==============================] - 7s 128us/step - loss: 0.2859 - acc: 0.8857 - val_loss: 0.3147 - val_acc: 0.8821\n",
            "Epoch 21/50\n",
            "58320/58320 [==============================] - 7s 128us/step - loss: 0.2838 - acc: 0.8881 - val_loss: 0.2832 - val_acc: 0.8955\n",
            "Epoch 22/50\n",
            "58320/58320 [==============================] - 8s 129us/step - loss: 0.2799 - acc: 0.8896 - val_loss: 0.2795 - val_acc: 0.8965\n",
            "Epoch 23/50\n",
            "58320/58320 [==============================] - 7s 129us/step - loss: 0.2723 - acc: 0.8918 - val_loss: 0.2857 - val_acc: 0.8941\n",
            "Epoch 24/50\n",
            "58320/58320 [==============================] - 7s 128us/step - loss: 0.2681 - acc: 0.8932 - val_loss: 0.2957 - val_acc: 0.8904\n",
            "Epoch 25/50\n",
            "58320/58320 [==============================] - 7s 128us/step - loss: 0.2635 - acc: 0.8955 - val_loss: 0.2733 - val_acc: 0.8977\n",
            "Epoch 26/50\n",
            "58320/58320 [==============================] - 7s 128us/step - loss: 0.2629 - acc: 0.8965 - val_loss: 0.2677 - val_acc: 0.9003\n",
            "Epoch 27/50\n",
            "58320/58320 [==============================] - 7s 129us/step - loss: 0.2593 - acc: 0.8967 - val_loss: 0.2925 - val_acc: 0.8906\n",
            "Epoch 28/50\n",
            "58320/58320 [==============================] - 7s 128us/step - loss: 0.2576 - acc: 0.8967 - val_loss: 0.2767 - val_acc: 0.8971\n",
            "Epoch 29/50\n",
            "58320/58320 [==============================] - 8s 129us/step - loss: 0.2555 - acc: 0.8983 - val_loss: 0.2738 - val_acc: 0.9005\n",
            "Epoch 30/50\n",
            "58320/58320 [==============================] - 7s 128us/step - loss: 0.2510 - acc: 0.9005 - val_loss: 0.2645 - val_acc: 0.9032\n",
            "Epoch 31/50\n",
            "58320/58320 [==============================] - 8s 129us/step - loss: 0.2447 - acc: 0.9032 - val_loss: 0.2816 - val_acc: 0.8989\n",
            "Epoch 32/50\n",
            "58320/58320 [==============================] - 8s 129us/step - loss: 0.2445 - acc: 0.9011 - val_loss: 0.2668 - val_acc: 0.9022\n",
            "Epoch 33/50\n",
            "58320/58320 [==============================] - 7s 128us/step - loss: 0.2426 - acc: 0.9049 - val_loss: 0.2695 - val_acc: 0.9025\n",
            "Epoch 34/50\n",
            "58320/58320 [==============================] - 7s 128us/step - loss: 0.2373 - acc: 0.9063 - val_loss: 0.2529 - val_acc: 0.9073\n",
            "Epoch 35/50\n",
            "58320/58320 [==============================] - 7s 128us/step - loss: 0.2369 - acc: 0.9064 - val_loss: 0.2737 - val_acc: 0.9046\n",
            "Epoch 36/50\n",
            "58320/58320 [==============================] - 8s 129us/step - loss: 0.2360 - acc: 0.9066 - val_loss: 0.2665 - val_acc: 0.9026\n",
            "Epoch 37/50\n",
            "58320/58320 [==============================] - 7s 129us/step - loss: 0.2301 - acc: 0.9081 - val_loss: 0.2715 - val_acc: 0.9037\n",
            "Epoch 38/50\n",
            "58320/58320 [==============================] - 7s 128us/step - loss: 0.2307 - acc: 0.9087 - val_loss: 0.2574 - val_acc: 0.9037\n",
            "Epoch 39/50\n",
            "58320/58320 [==============================] - 7s 127us/step - loss: 0.2283 - acc: 0.9093 - val_loss: 0.2885 - val_acc: 0.8954\n",
            "Epoch 40/50\n",
            "58320/58320 [==============================] - 7s 128us/step - loss: 0.2266 - acc: 0.9107 - val_loss: 0.2777 - val_acc: 0.9022\n",
            "Epoch 41/50\n",
            "58320/58320 [==============================] - 8s 129us/step - loss: 0.2241 - acc: 0.9117 - val_loss: 0.2837 - val_acc: 0.8994\n",
            "Epoch 42/50\n",
            "58320/58320 [==============================] - 7s 128us/step - loss: 0.2270 - acc: 0.9110 - val_loss: 0.2489 - val_acc: 0.9074\n",
            "Epoch 43/50\n",
            "58320/58320 [==============================] - 8s 129us/step - loss: 0.2223 - acc: 0.9125 - val_loss: 0.2514 - val_acc: 0.9069\n",
            "Epoch 44/50\n",
            "58320/58320 [==============================] - 7s 128us/step - loss: 0.2147 - acc: 0.9145 - val_loss: 0.2694 - val_acc: 0.9051\n",
            "Epoch 45/50\n",
            "58320/58320 [==============================] - 7s 128us/step - loss: 0.2171 - acc: 0.9139 - val_loss: 0.2653 - val_acc: 0.9026\n",
            "Epoch 46/50\n",
            "58320/58320 [==============================] - 7s 128us/step - loss: 0.2141 - acc: 0.9162 - val_loss: 0.2505 - val_acc: 0.9110\n",
            "Epoch 47/50\n",
            "58320/58320 [==============================] - 8s 129us/step - loss: 0.2150 - acc: 0.9149 - val_loss: 0.2578 - val_acc: 0.9059\n",
            "Epoch 48/50\n",
            "58320/58320 [==============================] - 7s 128us/step - loss: 0.2106 - acc: 0.9177 - val_loss: 0.2643 - val_acc: 0.9031\n",
            "Epoch 49/50\n",
            "58320/58320 [==============================] - 7s 128us/step - loss: 0.2120 - acc: 0.9157 - val_loss: 0.2529 - val_acc: 0.9079\n",
            "Epoch 50/50\n",
            "58320/58320 [==============================] - 7s 128us/step - loss: 0.2097 - acc: 0.9180 - val_loss: 0.2408 - val_acc: 0.9125\n"
          ],
          "name": "stdout"
        }
      ]
    },
    {
      "metadata": {
        "id": "8PVwLZ5TGKYu",
        "colab_type": "code",
        "outputId": "139ea994-1a1b-458d-b85c-546098e2bb73",
        "colab": {
          "base_uri": "https://localhost:8080/",
          "height": 607
        }
      },
      "cell_type": "code",
      "source": [
        "func(X2)\n",
        "_,acc = model2.evaluate(x_test,y_test)\n",
        "print(\"Test Accuracy : \",acc)"
      ],
      "execution_count": 24,
      "outputs": [
        {
          "output_type": "display_data",
          "data": {
            "image/png": "[encoded data removed]",
            "text/plain": [
              "<Figure size 432x288 with 1 Axes>"
            ]
          },
          "metadata": {
            "tags": []
          }
        },
        {
          "output_type": "display_data",
          "data": {
            "image/png": "[encoded data removed]",
            "text/plain": [
              "<Figure size 432x288 with 1 Axes>"
            ]
          },
          "metadata": {
            "tags": []
          }
        },
        {
          "output_type": "stream",
          "text": [
            "800/800 [==============================] - 0s 114us/step\n",
            "Test Accuracy :  0.88625\n"
          ],
          "name": "stdout"
        }
      ]
    },
    {
      "metadata": {
        "id": "_bhqvsI276Dj",
        "colab_type": "text"
      },
      "cell_type": "markdown",
      "source": [
        "### Model 3\n",
        "- added more layers units\n",
        "- increased dropout layers as the model was overfitting"
      ]
    },
    {
      "metadata": {
        "id": "5bAtrj10ZS2c",
        "colab_type": "code",
        "outputId": "0ccc1970-55c1-419a-ba03-d779866caa5b",
        "colab": {
          "base_uri": "https://localhost:8080/",
          "height": 816
        }
      },
      "cell_type": "code",
      "source": [
        "model3 = Sequential()\n",
        "\n",
        "model3.add(Convolution2D(32,(3,3),padding = 'Same',activation ='relu', input_shape = (28,28,1)))\n",
        "model3.add(BatchNormalization())\n",
        "\n",
        "model3.add(Convolution2D(64,(3,3),padding = 'Same',activation ='relu'))\n",
        "model3.add(BatchNormalization())\n",
        "model3.add(MaxPool2D(pool_size=(2,2)))\n",
        "model3.add(Dropout(0.4))\n",
        "\n",
        "model3.add(Convolution2D(96,(3,3),padding = 'Same',activation ='relu'))\n",
        "model3.add(BatchNormalization())\n",
        "    \n",
        "model3.add(Convolution2D(128,(3,3),padding = 'Same',activation ='relu'))\n",
        "model3.add(BatchNormalization())\n",
        "model3.add(MaxPool2D(pool_size=(2,2)))\n",
        "model3.add(Dropout(0.4))\n",
        "\n",
        "model3.add(Flatten())\n",
        "\n",
        "model3.add(Dense(512,activation='relu'))\n",
        "model3.add(BatchNormalization())\n",
        "model3.add(Dropout(0.4))\n",
        "\n",
        "model3.add(Dense(64,activation='relu'))\n",
        "model3.add(BatchNormalization())\n",
        "model3.add(Dropout(0.4))\n",
        "model3.add(Dense(4,activation='softmax'))\n",
        "\n",
        "#saving the weights of the model after every improvement\n",
        "checkpoint = ModelCheckpoint(\"./weights-loss-{val_loss:.5f}-acc-{val_acc:.5f}.h5\", monitor='val_loss', verbose=1,save_best_only = True, save_weights_only=True)\n",
        "callbacks_list = [checkpoint]\n",
        "\n",
        "\n",
        "model3.compile(optimizer='adam',loss='categorical_crossentropy',metrics=['accuracy'])\n",
        "model3.summary()"
      ],
      "execution_count": 30,
      "outputs": [
        {
          "output_type": "stream",
          "text": [
            "_________________________________________________________________\n",
            "Layer (type)                 Output Shape              Param #   \n",
            "=================================================================\n",
            "conv2d_21 (Conv2D)           (None, 28, 28, 32)        320       \n",
            "_________________________________________________________________\n",
            "batch_normalization_27 (Batc (None, 28, 28, 32)        128       \n",
            "_________________________________________________________________\n",
            "conv2d_22 (Conv2D)           (None, 28, 28, 64)        18496     \n",
            "_________________________________________________________________\n",
            "batch_normalization_28 (Batc (None, 28, 28, 64)        256       \n",
            "_________________________________________________________________\n",
            "max_pooling2d_13 (MaxPooling (None, 14, 14, 64)        0         \n",
            "_________________________________________________________________\n",
            "dropout_19 (Dropout)         (None, 14, 14, 64)        0         \n",
            "_________________________________________________________________\n",
            "conv2d_23 (Conv2D)           (None, 14, 14, 96)        55392     \n",
            "_________________________________________________________________\n",
            "batch_normalization_29 (Batc (None, 14, 14, 96)        384       \n",
            "_________________________________________________________________\n",
            "conv2d_24 (Conv2D)           (None, 14, 14, 128)       110720    \n",
            "_________________________________________________________________\n",
            "batch_normalization_30 (Batc (None, 14, 14, 128)       512       \n",
            "_________________________________________________________________\n",
            "max_pooling2d_14 (MaxPooling (None, 7, 7, 128)         0         \n",
            "_________________________________________________________________\n",
            "dropout_20 (Dropout)         (None, 7, 7, 128)         0         \n",
            "_________________________________________________________________\n",
            "flatten_6 (Flatten)          (None, 6272)              0         \n",
            "_________________________________________________________________\n",
            "dense_14 (Dense)             (None, 512)               3211776   \n",
            "_________________________________________________________________\n",
            "batch_normalization_31 (Batc (None, 512)               2048      \n",
            "_________________________________________________________________\n",
            "dropout_21 (Dropout)         (None, 512)               0         \n",
            "_________________________________________________________________\n",
            "dense_15 (Dense)             (None, 64)                32832     \n",
            "_________________________________________________________________\n",
            "batch_normalization_32 (Batc (None, 64)                256       \n",
            "_________________________________________________________________\n",
            "dropout_22 (Dropout)         (None, 64)                0         \n",
            "_________________________________________________________________\n",
            "dense_16 (Dense)             (None, 4)                 260       \n",
            "=================================================================\n",
            "Total params: 3,433,380\n",
            "Trainable params: 3,431,588\n",
            "Non-trainable params: 1,792\n",
            "_________________________________________________________________\n"
          ],
          "name": "stdout"
        }
      ]
    },
    {
      "metadata": {
        "id": "gfAqKIlbZUri",
        "colab_type": "code",
        "outputId": "0ac97b0e-5c7d-4c36-a793-fb6ce8324e94",
        "colab": {
          "base_uri": "https://localhost:8080/",
          "height": 3434
        }
      },
      "cell_type": "code",
      "source": [
        "X3 = model3.fit(x_train,y_train,epochs=50,batch_size=128,validation_split = 0.1,callbacks=callbacks_list)"
      ],
      "execution_count": 31,
      "outputs": [
        {
          "output_type": "stream",
          "text": [
            "Train on 58320 samples, validate on 6480 samples\n",
            "Epoch 1/50\n",
            "58320/58320 [==============================] - 28s 484us/step - loss: 0.6939 - acc: 0.7301 - val_loss: 0.4478 - val_acc: 0.8264\n",
            "\n",
            "Epoch 00001: val_loss improved from inf to 0.44779, saving model to ./weights-loss-0.44779-acc-0.82639.h5\n",
            "Epoch 2/50\n",
            "58320/58320 [==============================] - 26s 438us/step - loss: 0.4652 - acc: 0.8213 - val_loss: 0.3865 - val_acc: 0.8534\n",
            "\n",
            "Epoch 00002: val_loss improved from 0.44779 to 0.38647, saving model to ./weights-loss-0.38647-acc-0.85340.h5\n",
            "Epoch 3/50\n",
            "58320/58320 [==============================] - 26s 441us/step - loss: 0.4114 - acc: 0.8403 - val_loss: 0.3321 - val_acc: 0.8741\n",
            "\n",
            "Epoch 00003: val_loss improved from 0.38647 to 0.33213, saving model to ./weights-loss-0.33213-acc-0.87407.h5\n",
            "Epoch 4/50\n",
            "58320/58320 [==============================] - 26s 439us/step - loss: 0.3796 - acc: 0.8530 - val_loss: 0.3284 - val_acc: 0.8762\n",
            "\n",
            "Epoch 00004: val_loss improved from 0.33213 to 0.32836, saving model to ./weights-loss-0.32836-acc-0.87623.h5\n",
            "Epoch 5/50\n",
            "58320/58320 [==============================] - 26s 440us/step - loss: 0.3476 - acc: 0.8662 - val_loss: 0.3360 - val_acc: 0.8676\n",
            "\n",
            "Epoch 00005: val_loss did not improve from 0.32836\n",
            "Epoch 6/50\n",
            "58320/58320 [==============================] - 26s 441us/step - loss: 0.3272 - acc: 0.8750 - val_loss: 0.3295 - val_acc: 0.8738\n",
            "\n",
            "Epoch 00006: val_loss did not improve from 0.32836\n",
            "Epoch 7/50\n",
            "58320/58320 [==============================] - 26s 440us/step - loss: 0.3111 - acc: 0.8811 - val_loss: 0.2832 - val_acc: 0.8912\n",
            "\n",
            "Epoch 00007: val_loss improved from 0.32836 to 0.28319, saving model to ./weights-loss-0.28319-acc-0.89120.h5\n",
            "Epoch 8/50\n",
            "58320/58320 [==============================] - 26s 441us/step - loss: 0.2920 - acc: 0.8885 - val_loss: 0.2835 - val_acc: 0.8909\n",
            "\n",
            "Epoch 00008: val_loss did not improve from 0.28319\n",
            "Epoch 9/50\n",
            "58320/58320 [==============================] - 26s 440us/step - loss: 0.2745 - acc: 0.8949 - val_loss: 0.2525 - val_acc: 0.9051\n",
            "\n",
            "Epoch 00009: val_loss improved from 0.28319 to 0.25245, saving model to ./weights-loss-0.25245-acc-0.90509.h5\n",
            "Epoch 10/50\n",
            "58320/58320 [==============================] - 26s 440us/step - loss: 0.2560 - acc: 0.9026 - val_loss: 0.2813 - val_acc: 0.8946\n",
            "\n",
            "Epoch 00010: val_loss did not improve from 0.25245\n",
            "Epoch 11/50\n",
            "58320/58320 [==============================] - 26s 438us/step - loss: 0.2430 - acc: 0.9074 - val_loss: 0.2373 - val_acc: 0.9106\n",
            "\n",
            "Epoch 00011: val_loss improved from 0.25245 to 0.23735, saving model to ./weights-loss-0.23735-acc-0.91065.h5\n",
            "Epoch 12/50\n",
            "58320/58320 [==============================] - 26s 441us/step - loss: 0.2313 - acc: 0.9117 - val_loss: 0.2563 - val_acc: 0.9074\n",
            "\n",
            "Epoch 00012: val_loss did not improve from 0.23735\n",
            "Epoch 13/50\n",
            "58320/58320 [==============================] - 26s 441us/step - loss: 0.2166 - acc: 0.9170 - val_loss: 0.2388 - val_acc: 0.9131\n",
            "\n",
            "Epoch 00013: val_loss did not improve from 0.23735\n",
            "Epoch 14/50\n",
            "58320/58320 [==============================] - 26s 441us/step - loss: 0.2071 - acc: 0.9217 - val_loss: 0.2463 - val_acc: 0.9114\n",
            "\n",
            "Epoch 00014: val_loss did not improve from 0.23735\n",
            "Epoch 15/50\n",
            "58320/58320 [==============================] - 26s 440us/step - loss: 0.1994 - acc: 0.9238 - val_loss: 0.2468 - val_acc: 0.9077\n",
            "\n",
            "Epoch 00015: val_loss did not improve from 0.23735\n",
            "Epoch 16/50\n",
            "58320/58320 [==============================] - 26s 438us/step - loss: 0.1963 - acc: 0.9254 - val_loss: 0.2321 - val_acc: 0.9159\n",
            "\n",
            "Epoch 00016: val_loss improved from 0.23735 to 0.23209, saving model to ./weights-loss-0.23209-acc-0.91590.h5\n",
            "Epoch 17/50\n",
            "58320/58320 [==============================] - 26s 440us/step - loss: 0.1836 - acc: 0.9302 - val_loss: 0.2329 - val_acc: 0.9142\n",
            "\n",
            "Epoch 00017: val_loss did not improve from 0.23209\n",
            "Epoch 18/50\n",
            "58320/58320 [==============================] - 26s 440us/step - loss: 0.1730 - acc: 0.9347 - val_loss: 0.2208 - val_acc: 0.9173\n",
            "\n",
            "Epoch 00018: val_loss improved from 0.23209 to 0.22084, saving model to ./weights-loss-0.22084-acc-0.91728.h5\n",
            "Epoch 19/50\n",
            "58320/58320 [==============================] - 26s 438us/step - loss: 0.1624 - acc: 0.9386 - val_loss: 0.2134 - val_acc: 0.9233\n",
            "\n",
            "Epoch 00019: val_loss improved from 0.22084 to 0.21341, saving model to ./weights-loss-0.21341-acc-0.92330.h5\n",
            "Epoch 20/50\n",
            "58320/58320 [==============================] - 26s 439us/step - loss: 0.1579 - acc: 0.9409 - val_loss: 0.2249 - val_acc: 0.9211\n",
            "\n",
            "Epoch 00020: val_loss did not improve from 0.21341\n",
            "Epoch 21/50\n",
            "58320/58320 [==============================] - 26s 438us/step - loss: 0.1486 - acc: 0.9437 - val_loss: 0.2356 - val_acc: 0.9142\n",
            "\n",
            "Epoch 00021: val_loss did not improve from 0.21341\n",
            "Epoch 22/50\n",
            "58320/58320 [==============================] - 26s 440us/step - loss: 0.1455 - acc: 0.9452 - val_loss: 0.2093 - val_acc: 0.9222\n",
            "\n",
            "Epoch 00022: val_loss improved from 0.21341 to 0.20929, saving model to ./weights-loss-0.20929-acc-0.92222.h5\n",
            "Epoch 23/50\n",
            "58320/58320 [==============================] - 26s 439us/step - loss: 0.1350 - acc: 0.9494 - val_loss: 0.2044 - val_acc: 0.9269\n",
            "\n",
            "Epoch 00023: val_loss improved from 0.20929 to 0.20440, saving model to ./weights-loss-0.20440-acc-0.92685.h5\n",
            "Epoch 24/50\n",
            "58320/58320 [==============================] - 26s 438us/step - loss: 0.1344 - acc: 0.9504 - val_loss: 0.2053 - val_acc: 0.9276\n",
            "\n",
            "Epoch 00024: val_loss did not improve from 0.20440\n",
            "Epoch 25/50\n",
            "58320/58320 [==============================] - 26s 437us/step - loss: 0.1261 - acc: 0.9533 - val_loss: 0.2257 - val_acc: 0.9267\n",
            "\n",
            "Epoch 00025: val_loss did not improve from 0.20440\n",
            "Epoch 26/50\n",
            "58320/58320 [==============================] - 26s 439us/step - loss: 0.1293 - acc: 0.9515 - val_loss: 0.2173 - val_acc: 0.9270\n",
            "\n",
            "Epoch 00026: val_loss did not improve from 0.20440\n",
            "Epoch 27/50\n",
            "58320/58320 [==============================] - 26s 439us/step - loss: 0.1175 - acc: 0.9558 - val_loss: 0.2044 - val_acc: 0.9318\n",
            "\n",
            "Epoch 00027: val_loss improved from 0.20440 to 0.20439, saving model to ./weights-loss-0.20439-acc-0.93179.h5\n",
            "Epoch 28/50\n",
            "58320/58320 [==============================] - 26s 437us/step - loss: 0.1091 - acc: 0.9601 - val_loss: 0.2164 - val_acc: 0.9295\n",
            "\n",
            "Epoch 00028: val_loss did not improve from 0.20439\n",
            "Epoch 29/50\n",
            "58320/58320 [==============================] - 25s 437us/step - loss: 0.1070 - acc: 0.9606 - val_loss: 0.2288 - val_acc: 0.9248\n",
            "\n",
            "Epoch 00029: val_loss did not improve from 0.20439\n",
            "Epoch 30/50\n",
            "58320/58320 [==============================] - 26s 441us/step - loss: 0.1059 - acc: 0.9605 - val_loss: 0.2449 - val_acc: 0.9187\n",
            "\n",
            "Epoch 00030: val_loss did not improve from 0.20439\n",
            "Epoch 31/50\n",
            "58320/58320 [==============================] - 26s 439us/step - loss: 0.1013 - acc: 0.9628 - val_loss: 0.2006 - val_acc: 0.9346\n",
            "\n",
            "Epoch 00031: val_loss improved from 0.20439 to 0.20057, saving model to ./weights-loss-0.20057-acc-0.93457.h5\n",
            "Epoch 32/50\n",
            "58320/58320 [==============================] - 26s 438us/step - loss: 0.1007 - acc: 0.9632 - val_loss: 0.2090 - val_acc: 0.9316\n",
            "\n",
            "Epoch 00032: val_loss did not improve from 0.20057\n",
            "Epoch 33/50\n",
            "58320/58320 [==============================] - 26s 441us/step - loss: 0.0967 - acc: 0.9648 - val_loss: 0.2102 - val_acc: 0.9333\n",
            "\n",
            "Epoch 00033: val_loss did not improve from 0.20057\n",
            "Epoch 34/50\n",
            "58320/58320 [==============================] - 26s 441us/step - loss: 0.1012 - acc: 0.9622 - val_loss: 0.1945 - val_acc: 0.9361\n",
            "\n",
            "Epoch 00034: val_loss improved from 0.20057 to 0.19450, saving model to ./weights-loss-0.19450-acc-0.93611.h5\n",
            "Epoch 35/50\n",
            "58320/58320 [==============================] - 26s 438us/step - loss: 0.0914 - acc: 0.9658 - val_loss: 0.2097 - val_acc: 0.9327\n",
            "\n",
            "Epoch 00035: val_loss did not improve from 0.19450\n",
            "Epoch 36/50\n",
            "58320/58320 [==============================] - 26s 438us/step - loss: 0.0855 - acc: 0.9682 - val_loss: 0.2094 - val_acc: 0.9349\n",
            "\n",
            "Epoch 00036: val_loss did not improve from 0.19450\n",
            "Epoch 37/50\n",
            "58320/58320 [==============================] - 26s 439us/step - loss: 0.0878 - acc: 0.9681 - val_loss: 0.2050 - val_acc: 0.9358\n",
            "\n",
            "Epoch 00037: val_loss did not improve from 0.19450\n",
            "Epoch 38/50\n",
            "58320/58320 [==============================] - 26s 439us/step - loss: 0.0896 - acc: 0.9676 - val_loss: 0.1974 - val_acc: 0.9372\n",
            "\n",
            "Epoch 00038: val_loss did not improve from 0.19450\n",
            "Epoch 39/50\n",
            "58320/58320 [==============================] - 25s 437us/step - loss: 0.0818 - acc: 0.9699 - val_loss: 0.1993 - val_acc: 0.9397\n",
            "\n",
            "Epoch 00039: val_loss did not improve from 0.19450\n",
            "Epoch 40/50\n",
            "58320/58320 [==============================] - 25s 437us/step - loss: 0.0793 - acc: 0.9710 - val_loss: 0.2046 - val_acc: 0.9360\n",
            "\n",
            "Epoch 00040: val_loss did not improve from 0.19450\n",
            "Epoch 41/50\n",
            "58320/58320 [==============================] - 25s 435us/step - loss: 0.0770 - acc: 0.9722 - val_loss: 0.2075 - val_acc: 0.9366\n",
            "\n",
            "Epoch 00041: val_loss did not improve from 0.19450\n",
            "Epoch 42/50\n",
            "58320/58320 [==============================] - 25s 437us/step - loss: 0.0763 - acc: 0.9724 - val_loss: 0.2030 - val_acc: 0.9383\n",
            "\n",
            "Epoch 00042: val_loss did not improve from 0.19450\n",
            "Epoch 43/50\n",
            "58320/58320 [==============================] - 25s 437us/step - loss: 0.0730 - acc: 0.9732 - val_loss: 0.2030 - val_acc: 0.9389\n",
            "\n",
            "Epoch 00043: val_loss did not improve from 0.19450\n",
            "Epoch 44/50\n",
            "58320/58320 [==============================] - 26s 441us/step - loss: 0.0695 - acc: 0.9752 - val_loss: 0.2087 - val_acc: 0.9409\n",
            "\n",
            "Epoch 00044: val_loss did not improve from 0.19450\n",
            "Epoch 45/50\n",
            "58320/58320 [==============================] - 26s 440us/step - loss: 0.0705 - acc: 0.9741 - val_loss: 0.2202 - val_acc: 0.9387\n",
            "\n",
            "Epoch 00045: val_loss did not improve from 0.19450\n",
            "Epoch 46/50\n",
            "58320/58320 [==============================] - 26s 439us/step - loss: 0.0722 - acc: 0.9739 - val_loss: 0.2068 - val_acc: 0.9400\n",
            "\n",
            "Epoch 00046: val_loss did not improve from 0.19450\n",
            "Epoch 47/50\n",
            "58320/58320 [==============================] - 26s 438us/step - loss: 0.0691 - acc: 0.9755 - val_loss: 0.2172 - val_acc: 0.9372\n",
            "\n",
            "Epoch 00047: val_loss did not improve from 0.19450\n",
            "Epoch 48/50\n",
            "58320/58320 [==============================] - 25s 437us/step - loss: 0.0686 - acc: 0.9757 - val_loss: 0.2081 - val_acc: 0.9383\n",
            "\n",
            "Epoch 00048: val_loss did not improve from 0.19450\n",
            "Epoch 49/50\n",
            "58320/58320 [==============================] - 25s 437us/step - loss: 0.0626 - acc: 0.9769 - val_loss: 0.2105 - val_acc: 0.9392\n",
            "\n",
            "Epoch 00049: val_loss did not improve from 0.19450\n",
            "Epoch 50/50\n",
            "58320/58320 [==============================] - 25s 437us/step - loss: 0.0629 - acc: 0.9768 - val_loss: 0.2057 - val_acc: 0.9403\n",
            "\n",
            "Epoch 00050: val_loss did not improve from 0.19450\n"
          ],
          "name": "stdout"
        }
      ]
    },
    {
      "metadata": {
        "id": "8OSB4Kk-Zj7Y",
        "colab_type": "code",
        "outputId": "6e40486a-4e19-4432-f1a9-d60eceff8654",
        "colab": {
          "base_uri": "https://localhost:8080/",
          "height": 607
        }
      },
      "cell_type": "code",
      "source": [
        "func(X3)\n",
        "_, acc = model3.evaluate(x_test,y_test)\n",
        "print(\"Test Accuracy : \", acc)"
      ],
      "execution_count": 42,
      "outputs": [
        {
          "output_type": "display_data",
          "data": {
            "image/png": "[encoded data removed]",
            "text/plain": [
              "<Figure size 432x288 with 1 Axes>"
            ]
          },
          "metadata": {
            "tags": []
          }
        },
        {
          "output_type": "display_data",
          "data": {
            "image/png": "[encoded data removed]",
            "text/plain": [
              "<Figure size 432x288 with 1 Axes>"
            ]
          },
          "metadata": {
            "tags": []
          }
        },
        {
          "output_type": "stream",
          "text": [
            "800/800 [==============================] - 0s 264us/step\n",
            "Test Accuracy :  0.91125\n"
          ],
          "name": "stdout"
        }
      ]
    },
    {
      "metadata": {
        "id": "xWtOuT9rKZEg",
        "colab_type": "text"
      },
      "cell_type": "markdown",
      "source": [
        "### Training with the complete model"
      ]
    },
    {
      "metadata": {
        "id": "ZjD1l0I5U9pv",
        "colab_type": "text"
      },
      "cell_type": "markdown",
      "source": [
        "#### Augmenting the whole dataset"
      ]
    },
    {
      "metadata": {
        "id": "5t56fxT_KdKM",
        "colab_type": "code",
        "colab": {
          "base_uri": "https://localhost:8080/",
          "height": 34
        },
        "outputId": "52683a05-fe77-467a-bb60-b4cda649b517"
      },
      "cell_type": "code",
      "source": [
        "M = np.float32([[1, 0, 6], [0, 1, 6]])\n",
        "M1 = cv2.getRotationMatrix2D((14,14),90,1)\n",
        "\n",
        "augmented_images = []\n",
        "augmented_y = []\n",
        "\n",
        "for i in tqdm(range(len(train_data))):\n",
        "  x = train_data[i]\n",
        "  x=x.astype(np.float32)\n",
        "  y = train_label[i]\n",
        "  # flipping the image left-right\n",
        "  x1 = np.fliplr(x)  \n",
        "  #flipping the image up-down\n",
        "  x2 = np.flipud(x)\n",
        "  #rotating 90 degrees\n",
        "  x3 = np.rot90(x,1,(0,1))\n",
        "  #rotating 180 degrees\n",
        "  x4 = np.rot90(x3,1,(0,1))\n",
        "  #rotating 270 degrees\n",
        "  x5 = np.rot90(x4,1,(0,1))\n",
        "  #shifting the image and rotating the image\n",
        "  x6 = cv2.warpAffine(x,M1,(28,28)).reshape(28,28,1)\n",
        "  #shifting the image\n",
        "  x7 = cv2.warpAffine(x, M, (28, 28)).reshape(28,28,1)\n",
        "  #flipping the rotated image\n",
        "  x8 = np.flipud(x6).reshape(28,28,1)\n",
        "  augmented_images.append(x1)\n",
        "  augmented_images.append(x2)\n",
        "  augmented_images.append(x3)\n",
        "  augmented_images.append(x4)\n",
        "  augmented_images.append(x5)\n",
        "  augmented_images.append(x6)\n",
        "  augmented_images.append(x7)\n",
        "  augmented_images.append(x8)\n",
        "  for j in range(8):\n",
        "    augmented_y.append(y)"
      ],
      "execution_count": 62,
      "outputs": [
        {
          "output_type": "stream",
          "text": [
            "100%|██████████| 8000/8000 [00:00<00:00, 13835.53it/s]\n"
          ],
          "name": "stderr"
        }
      ]
    },
    {
      "metadata": {
        "id": "JzBb-1scK1rF",
        "colab_type": "code",
        "colab": {}
      },
      "cell_type": "code",
      "source": [
        "#adding the augmented images to the original images\n",
        "train_data = np.concatenate((train_data,np.array(augmented_images)),axis=0)\n",
        "train_label = np.concatenate((train_label,np.array(augmented_y)),axis=0)"
      ],
      "execution_count": 0,
      "outputs": []
    },
    {
      "metadata": {
        "id": "vO2RMcX4K1t6",
        "colab_type": "code",
        "colab": {
          "base_uri": "https://localhost:8080/",
          "height": 34
        },
        "outputId": "9105a731-d543-4d0b-9651-e075482a7817"
      },
      "cell_type": "code",
      "source": [
        "train_data.shape,train_label.shape"
      ],
      "execution_count": 64,
      "outputs": [
        {
          "output_type": "execute_result",
          "data": {
            "text/plain": [
              "((72000, 28, 28, 1), (72000, 4))"
            ]
          },
          "metadata": {
            "tags": []
          },
          "execution_count": 64
        }
      ]
    },
    {
      "metadata": {
        "id": "m5TR4D6pK1yu",
        "colab_type": "code",
        "colab": {
          "base_uri": "https://localhost:8080/",
          "height": 2533
        },
        "outputId": "c1dc2859-1673-4ab8-fb6f-9c35883abd7e"
      },
      "cell_type": "code",
      "source": [
        "# using the 3rd model with complete data\n",
        "model3.compile(optimizer='adam',loss='categorical_crossentropy',metrics=['accuracy'])\n",
        "print(model3.summary())\n",
        "X4 = model3.fit(train_data,train_label,epochs=50,batch_size=128)"
      ],
      "execution_count": 66,
      "outputs": [
        {
          "output_type": "stream",
          "text": [
            "_________________________________________________________________\n",
            "Layer (type)                 Output Shape              Param #   \n",
            "=================================================================\n",
            "conv2d_29 (Conv2D)           (None, 28, 28, 32)        320       \n",
            "_________________________________________________________________\n",
            "batch_normalization_39 (Batc (None, 28, 28, 32)        128       \n",
            "_________________________________________________________________\n",
            "conv2d_30 (Conv2D)           (None, 28, 28, 64)        18496     \n",
            "_________________________________________________________________\n",
            "batch_normalization_40 (Batc (None, 28, 28, 64)        256       \n",
            "_________________________________________________________________\n",
            "max_pooling2d_17 (MaxPooling (None, 14, 14, 64)        0         \n",
            "_________________________________________________________________\n",
            "dropout_27 (Dropout)         (None, 14, 14, 64)        0         \n",
            "_________________________________________________________________\n",
            "conv2d_31 (Conv2D)           (None, 14, 14, 96)        55392     \n",
            "_________________________________________________________________\n",
            "batch_normalization_41 (Batc (None, 14, 14, 96)        384       \n",
            "_________________________________________________________________\n",
            "conv2d_32 (Conv2D)           (None, 14, 14, 128)       110720    \n",
            "_________________________________________________________________\n",
            "batch_normalization_42 (Batc (None, 14, 14, 128)       512       \n",
            "_________________________________________________________________\n",
            "max_pooling2d_18 (MaxPooling (None, 7, 7, 128)         0         \n",
            "_________________________________________________________________\n",
            "dropout_28 (Dropout)         (None, 7, 7, 128)         0         \n",
            "_________________________________________________________________\n",
            "flatten_8 (Flatten)          (None, 6272)              0         \n",
            "_________________________________________________________________\n",
            "dense_20 (Dense)             (None, 512)               3211776   \n",
            "_________________________________________________________________\n",
            "batch_normalization_43 (Batc (None, 512)               2048      \n",
            "_________________________________________________________________\n",
            "dropout_29 (Dropout)         (None, 512)               0         \n",
            "_________________________________________________________________\n",
            "dense_21 (Dense)             (None, 64)                32832     \n",
            "_________________________________________________________________\n",
            "batch_normalization_44 (Batc (None, 64)                256       \n",
            "_________________________________________________________________\n",
            "dropout_30 (Dropout)         (None, 64)                0         \n",
            "_________________________________________________________________\n",
            "dense_22 (Dense)             (None, 4)                 260       \n",
            "=================================================================\n",
            "Total params: 3,433,380\n",
            "Trainable params: 3,431,588\n",
            "Non-trainable params: 1,792\n",
            "_________________________________________________________________\n",
            "None\n",
            "Epoch 1/50\n",
            "72000/72000 [==============================] - 34s 466us/step - loss: 0.6353 - acc: 0.7537\n",
            "Epoch 2/50\n",
            "72000/72000 [==============================] - 31s 425us/step - loss: 0.4334 - acc: 0.8327\n",
            "Epoch 3/50\n",
            "72000/72000 [==============================] - 31s 424us/step - loss: 0.3830 - acc: 0.8527\n",
            "Epoch 4/50\n",
            "72000/72000 [==============================] - 30s 423us/step - loss: 0.3531 - acc: 0.8653\n",
            "Epoch 5/50\n",
            "72000/72000 [==============================] - 31s 425us/step - loss: 0.3294 - acc: 0.8740\n",
            "Epoch 6/50\n",
            "72000/72000 [==============================] - 31s 426us/step - loss: 0.3042 - acc: 0.8836\n",
            "Epoch 7/50\n",
            "72000/72000 [==============================] - 31s 426us/step - loss: 0.2856 - acc: 0.8916\n",
            "Epoch 8/50\n",
            "72000/72000 [==============================] - 31s 426us/step - loss: 0.2694 - acc: 0.8974\n",
            "Epoch 9/50\n",
            "72000/72000 [==============================] - 31s 426us/step - loss: 0.2539 - acc: 0.9047\n",
            "Epoch 10/50\n",
            "72000/72000 [==============================] - 31s 426us/step - loss: 0.2378 - acc: 0.9105\n",
            "Epoch 11/50\n",
            "72000/72000 [==============================] - 31s 426us/step - loss: 0.2232 - acc: 0.9153\n",
            "Epoch 12/50\n",
            "72000/72000 [==============================] - 31s 427us/step - loss: 0.2090 - acc: 0.9206\n",
            "Epoch 13/50\n",
            "72000/72000 [==============================] - 31s 426us/step - loss: 0.1987 - acc: 0.9239\n",
            "Epoch 14/50\n",
            "72000/72000 [==============================] - 31s 425us/step - loss: 0.1900 - acc: 0.9278\n",
            "Epoch 15/50\n",
            "72000/72000 [==============================] - 31s 426us/step - loss: 0.1815 - acc: 0.9306\n",
            "Epoch 16/50\n",
            "72000/72000 [==============================] - 31s 426us/step - loss: 0.1711 - acc: 0.9354\n",
            "Epoch 17/50\n",
            "72000/72000 [==============================] - 31s 426us/step - loss: 0.1631 - acc: 0.9396\n",
            "Epoch 18/50\n",
            "72000/72000 [==============================] - 31s 426us/step - loss: 0.1544 - acc: 0.9422\n",
            "Epoch 19/50\n",
            "72000/72000 [==============================] - 31s 427us/step - loss: 0.1465 - acc: 0.9446\n",
            "Epoch 20/50\n",
            "72000/72000 [==============================] - 31s 426us/step - loss: 0.1404 - acc: 0.9478\n",
            "Epoch 21/50\n",
            "72000/72000 [==============================] - 31s 426us/step - loss: 0.1340 - acc: 0.9498\n",
            "Epoch 22/50\n",
            "72000/72000 [==============================] - 31s 425us/step - loss: 0.1352 - acc: 0.9496\n",
            "Epoch 23/50\n",
            "72000/72000 [==============================] - 31s 428us/step - loss: 0.1231 - acc: 0.9540\n",
            "Epoch 24/50\n",
            "72000/72000 [==============================] - 31s 425us/step - loss: 0.1203 - acc: 0.9552\n",
            "Epoch 25/50\n",
            "72000/72000 [==============================] - 31s 426us/step - loss: 0.1160 - acc: 0.9562\n",
            "Epoch 26/50\n",
            "72000/72000 [==============================] - 31s 426us/step - loss: 0.1119 - acc: 0.9582\n",
            "Epoch 27/50\n",
            "72000/72000 [==============================] - 31s 427us/step - loss: 0.1064 - acc: 0.9609\n",
            "Epoch 28/50\n",
            "72000/72000 [==============================] - 31s 427us/step - loss: 0.1066 - acc: 0.9610\n",
            "Epoch 29/50\n",
            "72000/72000 [==============================] - 31s 426us/step - loss: 0.0984 - acc: 0.9635\n",
            "Epoch 30/50\n",
            "72000/72000 [==============================] - 31s 426us/step - loss: 0.0967 - acc: 0.9642\n",
            "Epoch 31/50\n",
            "72000/72000 [==============================] - 31s 427us/step - loss: 0.0964 - acc: 0.9641\n",
            "Epoch 32/50\n",
            "72000/72000 [==============================] - 31s 426us/step - loss: 0.0928 - acc: 0.9662\n",
            "Epoch 33/50\n",
            "72000/72000 [==============================] - 31s 426us/step - loss: 0.0882 - acc: 0.9671\n",
            "Epoch 34/50\n",
            "72000/72000 [==============================] - 31s 425us/step - loss: 0.0893 - acc: 0.9676\n",
            "Epoch 35/50\n",
            "72000/72000 [==============================] - 31s 427us/step - loss: 0.0818 - acc: 0.9698\n",
            "Epoch 36/50\n",
            "72000/72000 [==============================] - 31s 425us/step - loss: 0.0842 - acc: 0.9695\n",
            "Epoch 37/50\n",
            "72000/72000 [==============================] - 31s 424us/step - loss: 0.0788 - acc: 0.9709\n",
            "Epoch 38/50\n",
            "72000/72000 [==============================] - 31s 425us/step - loss: 0.0782 - acc: 0.9710\n",
            "Epoch 39/50\n",
            "72000/72000 [==============================] - 31s 425us/step - loss: 0.0763 - acc: 0.9729\n",
            "Epoch 40/50\n",
            "72000/72000 [==============================] - 31s 426us/step - loss: 0.0783 - acc: 0.9714\n",
            "Epoch 41/50\n",
            "72000/72000 [==============================] - 31s 426us/step - loss: 0.0744 - acc: 0.9735\n",
            "Epoch 42/50\n",
            "72000/72000 [==============================] - 31s 426us/step - loss: 0.0720 - acc: 0.9743\n",
            "Epoch 43/50\n",
            "72000/72000 [==============================] - 31s 426us/step - loss: 0.0691 - acc: 0.9747\n",
            "Epoch 44/50\n",
            "72000/72000 [==============================] - 31s 424us/step - loss: 0.0665 - acc: 0.9764\n",
            "Epoch 45/50\n",
            "72000/72000 [==============================] - 31s 426us/step - loss: 0.0674 - acc: 0.9751\n",
            "Epoch 46/50\n",
            "72000/72000 [==============================] - 31s 427us/step - loss: 0.0661 - acc: 0.9761\n",
            "Epoch 47/50\n",
            "72000/72000 [==============================] - 31s 427us/step - loss: 0.0659 - acc: 0.9762\n",
            "Epoch 48/50\n",
            "72000/72000 [==============================] - 31s 426us/step - loss: 0.0621 - acc: 0.9778\n",
            "Epoch 49/50\n",
            "72000/72000 [==============================] - 31s 427us/step - loss: 0.0626 - acc: 0.9778\n",
            "Epoch 50/50\n",
            "72000/72000 [==============================] - 31s 427us/step - loss: 0.0574 - acc: 0.9794\n"
          ],
          "name": "stdout"
        }
      ]
    },
    {
      "metadata": {
        "id": "QJPzWSaMQh5A",
        "colab_type": "text"
      },
      "cell_type": "markdown",
      "source": [
        "### Predicting the test data"
      ]
    },
    {
      "metadata": {
        "id": "YDXJhdg6Pjn_",
        "colab_type": "code",
        "colab": {
          "base_uri": "https://localhost:8080/",
          "height": 51
        },
        "outputId": "9bf375e4-e26f-4b64-d995-8ccc33fb1e87"
      },
      "cell_type": "code",
      "source": [
        "#reading the files\n",
        "with open('Vision_task_dataset_public/test_image.pkl', 'rb') as file:\n",
        "    test_data = pickle.load(file)\n",
        "#checking the type of data \n",
        "print(type(test_data),len(test_data))\n",
        "print(len(test_data[0]))"
      ],
      "execution_count": 81,
      "outputs": [
        {
          "output_type": "stream",
          "text": [
            "<class 'list'> 2000\n",
            "784\n"
          ],
          "name": "stdout"
        }
      ]
    },
    {
      "metadata": {
        "id": "_U-09qzgPokc",
        "colab_type": "code",
        "colab": {}
      },
      "cell_type": "code",
      "source": [
        "# converting into required shape\n",
        "test_data = np.array(test_data).reshape(-1,28,28,1)"
      ],
      "execution_count": 0,
      "outputs": []
    },
    {
      "metadata": {
        "id": "dPBfJD7cP6zg",
        "colab_type": "code",
        "colab": {}
      },
      "cell_type": "code",
      "source": [
        "# predicting for the test array\n",
        "pred = model3.predict(test_data)\n",
        "pred = np.argmax(pred,axis=1)"
      ],
      "execution_count": 0,
      "outputs": []
    },
    {
      "metadata": {
        "id": "RU6gQhlIQ3hA",
        "colab_type": "code",
        "colab": {
          "base_uri": "https://localhost:8080/",
          "height": 51
        },
        "outputId": "d6c79a6b-d8cf-463a-a4ea-fad7917b745d"
      },
      "cell_type": "code",
      "source": [
        " #the list of classes as found by the one hot encoder\n",
        "print(enc.categories_)\n",
        "type(enc.categories_)"
      ],
      "execution_count": 84,
      "outputs": [
        {
          "output_type": "stream",
          "text": [
            "[array([0, 2, 3, 6])]\n"
          ],
          "name": "stdout"
        },
        {
          "output_type": "execute_result",
          "data": {
            "text/plain": [
              "list"
            ]
          },
          "metadata": {
            "tags": []
          },
          "execution_count": 84
        }
      ]
    },
    {
      "metadata": {
        "id": "wqNBKE8mTD7e",
        "colab_type": "code",
        "colab": {}
      },
      "cell_type": "code",
      "source": [
        "#the list containing the classes\n",
        "flag = [0, 2, 3, 6]"
      ],
      "execution_count": 0,
      "outputs": []
    },
    {
      "metadata": {
        "id": "414y-JB9RkRQ",
        "colab_type": "code",
        "colab": {}
      },
      "cell_type": "code",
      "source": [
        "#preparing the numpy array to be written into csv\n",
        "write = np.zeros(shape=(2000, 2))\n",
        "for i in range(len(pred)):\n",
        "    write[i][0] = int(i)\n",
        "    write[i][1] = int(flag[pred[i]])"
      ],
      "execution_count": 0,
      "outputs": []
    },
    {
      "metadata": {
        "id": "qx1oSUWFRyzE",
        "colab_type": "code",
        "colab": {}
      },
      "cell_type": "code",
      "source": [
        "# store predictions to a csv file\n",
        "import pandas as pd\n",
        "pd.DataFrame(write).to_csv(\"Utkarsh_Tyagi.csv\",header=['image_index','class'], index=False)"
      ],
      "execution_count": 0,
      "outputs": []
    },
    {
      "metadata": {
        "id": "s4cI7rOORJjB",
        "colab_type": "code",
        "colab": {}
      },
      "cell_type": "code",
      "source": [
        "#copying the csv from colab to drive\n",
        "!cp -r \"Utkarsh_Tyagi.csv\" \"/colab/My Drive/\""
      ],
      "execution_count": 0,
      "outputs": []
    }
  ]
}